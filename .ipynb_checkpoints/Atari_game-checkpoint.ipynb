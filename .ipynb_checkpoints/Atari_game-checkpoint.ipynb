{
 "cells": [
  {
   "cell_type": "code",
   "execution_count": 5,
   "id": "d4e2cc1c-8b6c-4b3c-841c-f94b29a7f525",
   "metadata": {},
   "outputs": [
    {
     "data": {
      "text/plain": [
       "' test code '"
      ]
     },
     "execution_count": 5,
     "metadata": {},
     "output_type": "execute_result"
    }
   ],
   "source": [
    "import gymnasium as gym\n",
    "import ale_py\n",
    "\n",
    "\"\"\" test code \"\"\"\n",
    "# env = gym.make(\"ALE/Alien-v5\", render_mode=\"human\")\n",
    "# observation, info = env.reset()\n",
    "\n",
    "# for _ in range(500):\n",
    "#     action = env.action_space.sample()  # 随机动作\n",
    "#     observation, reward, terminated, truncated, info = env.step(action)\n",
    "\n",
    "#     if terminated or truncated:\n",
    "#         observation, info = env.reset()\n",
    "\n",
    "# env.close()\n",
    "\n",
    "# state, info = env.reset()\n",
    "# print (state.shape)\n",
    "# print (info)"
   ]
  },
  {
   "cell_type": "code",
   "execution_count": 4,
   "id": "3c584eb5-a33d-462c-87a4-cbd76c695934",
   "metadata": {},
   "outputs": [
    {
     "data": {
      "text/plain": [
       "'\\nstep1: 预处理环境。\\nwhy: atari的obs是210*160*3，应该先处理\\nhow: 1.转灰度 2.压缩 3.堆叠最近的4帧画面\\n'"
      ]
     },
     "execution_count": 4,
     "metadata": {},
     "output_type": "execute_result"
    }
   ],
   "source": [
    "import numpy as np\n",
    "import random\n",
    "from collections import deque\n",
    "import torch\n",
    "import torch.nn as nn\n",
    "import torch.optim as optim\n",
    "from gymnasium.wrappers import AtariPreprocessing, FrameStackObservation\n",
    "\n",
    "\"\"\"\n",
    "step1: 预处理环境。\n",
    "why: atari的obs是210*160*3，应该先处理\n",
    "how: 1.转灰度 2.压缩 3.堆叠最近的4帧画面\n",
    "\"\"\"\n",
    "\n",
    "env = gym.make(\"ALE/Alien-v5\", render_mode=\"human\")\n",
    "observation, info = env.reset()\n",
    "\n",
    "# AtaAtariPreprocessing函数详解：\n",
    "# - frame_skip=4 一个动作保持4帧 -> 1.可以减少计算量 2.让动作效果更加明显\n",
    "# - grayscale_obs=True 转化为灰度图像\n",
    "# - scale_obs=False 没有把像素值从【0,255】-> 【0,1】\n",
    "env = AtariPreprocessing(env, frame_skip=4, grayscale_obs=True, scale_obs=False)\n",
    "\n",
    "env = FrameStack(env, num_stack=4)"
   ]
  },
  {
   "cell_type": "code",
   "execution_count": null,
   "id": "99957db7-65ca-482e-b79f-2d32ce9c2c17",
   "metadata": {},
   "outputs": [],
   "source": []
  }
 ],
 "metadata": {
  "kernelspec": {
   "display_name": "Python 3 (ipykernel)",
   "language": "python",
   "name": "python3"
  },
  "language_info": {
   "codemirror_mode": {
    "name": "ipython",
    "version": 3
   },
   "file_extension": ".py",
   "mimetype": "text/x-python",
   "name": "python",
   "nbconvert_exporter": "python",
   "pygments_lexer": "ipython3",
   "version": "3.10.18"
  }
 },
 "nbformat": 4,
 "nbformat_minor": 5
}
