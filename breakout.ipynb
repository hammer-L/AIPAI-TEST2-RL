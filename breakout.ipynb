{
 "cells": [
  {
   "cell_type": "code",
   "execution_count": 3,
   "id": "b8c2518b-6c43-4257-9189-c6b6175f12e6",
   "metadata": {},
   "outputs": [
    {
     "name": "stdout",
     "output_type": "stream",
     "text": [
      "obs (210, 160, 3)\n",
      "info {'lives': 5, 'episode_frame_number': 0, 'frame_number': 0}\n",
      "(4, 84, 84)\n",
      "{'lives': 5, 'episode_frame_number': 64, 'frame_number': 64}\n"
     ]
    },
    {
     "data": {
      "text/plain": [
       "EnvSpec(id='ALE/Breakout-v5', entry_point='ale_py.env:AtariEnv', reward_threshold=None, nondeterministic=False, max_episode_steps=None, order_enforce=True, disable_env_checker=False, kwargs={'game': 'breakout', 'repeat_action_probability': 0.25, 'full_action_space': False, 'frameskip': 4, 'max_num_frames_per_episode': 108000, 'render_mode': 'human'}, namespace='ALE', name='Breakout', version=5, additional_wrappers=(WrapperSpec(name='AtariPreprocessing', entry_point='gymnasium.wrappers.atari_preprocessing:AtariPreprocessing', kwargs={'noop_max': 30, 'frame_skip': 1, 'screen_size': 84, 'terminal_on_life_loss': False, 'grayscale_obs': True, 'grayscale_newaxis': False, 'scale_obs': True}), WrapperSpec(name='FrameStackObservation', entry_point='gymnasium.wrappers.stateful_observation:FrameStackObservation', kwargs={'stack_size': 4, 'padding_type': 'reset'})), vector_entry_point='ale_py.vector_env:AtariVectorEnv')"
      ]
     },
     "execution_count": 3,
     "metadata": {},
     "output_type": "execute_result"
    }
   ],
   "source": [
    "import gymnasium as gym\n",
    "import ale_py\n",
    "import numpy as np\n",
    "import random\n",
    "from collections import deque\n",
    "import torch\n",
    "import torch.nn as nn\n",
    "import torch.optim as optim\n",
    "from gymnasium.wrappers import AtariPreprocessing\n",
    "from gymnasium.wrappers import FrameStackObservation\n",
    "from tqdm import tqdm\n",
    "from gymnasium import RewardWrapper\n",
    "\n",
    "\"\"\"\n",
    "step1: 预处理环境。\n",
    "why: atari的obs是210*160*3，应该先处理\n",
    "how: 1.转灰度 2.压缩 3.堆叠最近的4帧画面(这样能同时展示s和a)\n",
    "\"\"\"\n",
    "#train\n",
    "# env = gym.make(\"ALE/Alien-v5\",frameskip=1)\n",
    "\n",
    "# render\n",
    "env = gym.make(\"ALE/Breakout-v5\",frameskip=4, render_mode='human')\n",
    "\n",
    "#print\n",
    "obs, info = env.reset()\n",
    "print ('obs', obs.shape)\n",
    "print ('info', info)\n",
    "\n",
    "\n",
    "\"\"\"\n",
    "AtaAtariPreprocessing函数详解：\n",
    "- frame_skip=4 一个动作保持4帧 -> 1.可以减少计算量 2.让动作效果更加明显， 这里atari已经内置了\n",
    "- grayscale_obs=True 转化为灰度图像\n",
    "- scale_obs=True 把像素值从【0,255】-> 【0,1】\n",
    "\"\"\"\n",
    "env = AtariPreprocessing(env, grayscale_obs=True, scale_obs=True, frame_skip=1)\n",
    "\n",
    "# 表示每次obs由最近的4帧图形拼接而成\n",
    "# shape（4,210,160）\n",
    "env = FrameStackObservation(env, stack_size=4)\n",
    "\n",
    "obs, info = env.reset()\n",
    "\"\"\"test\"\"\"\n",
    "\n",
    "# for _ in range(500):\n",
    "#     action = env.action_space.sample()  # 随机动作\n",
    "#     observation, reward, terminated, truncated, info = env.step(action)\n",
    "\n",
    "#     if terminated or truncated:\n",
    "#         observation, info = env.reset()\n",
    "\n",
    "# env.close()\n",
    "\n",
    "# state, info = env.reset()\n",
    "print (state.shape)\n",
    "print (info)\n",
    "env.spec"
   ]
  },
  {
   "cell_type": "code",
   "execution_count": null,
   "id": "9e325706-dfd0-4a24-af37-c4cbc1ab7971",
   "metadata": {},
   "outputs": [],
   "source": []
  }
 ],
 "metadata": {
  "kernelspec": {
   "display_name": "Python 3 (ipykernel)",
   "language": "python",
   "name": "python3"
  },
  "language_info": {
   "codemirror_mode": {
    "name": "ipython",
    "version": 3
   },
   "file_extension": ".py",
   "mimetype": "text/x-python",
   "name": "python",
   "nbconvert_exporter": "python",
   "pygments_lexer": "ipython3",
   "version": "3.10.18"
  }
 },
 "nbformat": 4,
 "nbformat_minor": 5
}
